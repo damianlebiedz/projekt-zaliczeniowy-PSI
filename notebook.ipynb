{
 "cells": [
  {
   "cell_type": "code",
   "id": "initial_id",
   "metadata": {
    "collapsed": true,
    "ExecuteTime": {
     "end_time": "2025-04-10T18:06:29.329023Z",
     "start_time": "2025-04-10T18:06:28.886156Z"
    }
   },
   "source": [
    "import pandas as pd\n",
    "import matplotlib.pyplot as plt\n",
    "import yfinance as yf\n",
    "import wordcloud as wcl\n",
    "import tweepy as tw\n",
    "import seaborn as sns"
   ],
   "outputs": [],
   "execution_count": 2
  },
  {
   "metadata": {
    "ExecuteTime": {
     "end_time": "2025-04-10T18:07:23.260718Z",
     "start_time": "2025-04-10T18:07:23.240976Z"
    }
   },
   "cell_type": "code",
   "source": [
    "data = yf.download('^VIX', start='2025-03-10', end='2025-04-10')\n",
    "vix_data = data[['Open', 'Close']]\n",
    "print(vix_data)"
   ],
   "id": "cb716d7471dfee9b",
   "outputs": [
    {
     "name": "stderr",
     "output_type": "stream",
     "text": [
      "[*********************100%***********************]  1 of 1 completed"
     ]
    },
    {
     "name": "stdout",
     "output_type": "stream",
     "text": [
      "Price            Open      Close\n",
      "Ticker           ^VIX       ^VIX\n",
      "Date                            \n",
      "2025-03-10  24.700001  27.860001\n",
      "2025-03-11  27.940001  26.920000\n",
      "2025-03-12  26.879999  24.230000\n",
      "2025-03-13  24.920000  24.660000\n",
      "2025-03-14  24.350000  21.770000\n",
      "2025-03-17  22.889999  20.510000\n",
      "2025-03-18  20.830000  21.700001\n",
      "2025-03-19  21.840000  19.900000\n",
      "2025-03-20  19.520000  19.799999\n",
      "2025-03-21  20.020000  19.280001\n",
      "2025-03-24  19.129999  17.480000\n",
      "2025-03-25  17.580000  17.150000\n",
      "2025-03-26  17.230000  18.330000\n",
      "2025-03-27  18.360001  18.690001\n",
      "2025-03-28  19.080000  21.650000\n",
      "2025-03-31  24.110001  22.280001\n",
      "2025-04-01  22.059999  21.770000\n",
      "2025-04-02  22.299999  21.510000\n",
      "2025-04-03  26.379999  30.020000\n",
      "2025-04-04  30.120001  45.310001\n",
      "2025-04-07  60.130001  46.980000\n",
      "2025-04-08  44.040001  52.330002\n",
      "2025-04-09  50.980000  33.619999\n"
     ]
    },
    {
     "name": "stderr",
     "output_type": "stream",
     "text": [
      "\n"
     ]
    }
   ],
   "execution_count": 6
  }
 ],
 "metadata": {
  "kernelspec": {
   "display_name": "Python 3",
   "language": "python",
   "name": "python3"
  },
  "language_info": {
   "codemirror_mode": {
    "name": "ipython",
    "version": 2
   },
   "file_extension": ".py",
   "mimetype": "text/x-python",
   "name": "python",
   "nbconvert_exporter": "python",
   "pygments_lexer": "ipython2",
   "version": "2.7.6"
  }
 },
 "nbformat": 4,
 "nbformat_minor": 5
}
