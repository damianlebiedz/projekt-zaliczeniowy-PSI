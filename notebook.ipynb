{
 "cells": [
  {
   "cell_type": "code",
   "id": "initial_id",
   "metadata": {
    "collapsed": true,
    "ExecuteTime": {
     "end_time": "2025-04-24T11:41:36.383712Z",
     "start_time": "2025-04-24T11:41:36.374011Z"
    }
   },
   "source": [
    "import pandas as pd\n",
    "import matplotlib.pyplot as plt\n",
    "import yfinance as yf\n",
    "import wordcloud as wcl\n",
    "from datetime import timedelta\n",
    "import snscrape.modules.twitter as sntwitter\n",
    "import requests\n",
    "\n",
    "pd.set_option('display.max_columns', None)\n",
    "pd.set_option('display.max_rows', None)"
   ],
   "outputs": [],
   "execution_count": 2
  },
  {
   "metadata": {
    "ExecuteTime": {
     "end_time": "2025-04-24T11:42:41.524755Z",
     "start_time": "2025-04-24T11:42:41.517117Z"
    }
   },
   "cell_type": "code",
   "source": [
    "### CONTROLLER - You can change that data\n",
    "\n",
    "# Range of timeframe\n",
    "start_date = '2025-03-17'\n",
    "end_date = '2025-04-17'\n",
    "\n",
    "# Stock to analyze\n",
    "ticker = '^VIX'\n",
    "\n",
    "# How many days with the biggest change do you want to analyze\n",
    "num_of_biggest_changes = 3\n",
    "\n",
    "# Keywords from tweets for sentiment analysis\n",
    "keywords = ['stock', '$SPX', '$SP500', 'SPX', 'SP500', '#SPX', '#SP500', 'S&P']\n",
    "\n",
    "# Maximum number of tweets to analyze\n",
    "max_tweets = 1000\n",
    "\n",
    "# Number of most popular tweets to analyze\n",
    "top_n = 50"
   ],
   "id": "f34994431cfc5456",
   "outputs": [],
   "execution_count": 3
  },
  {
   "metadata": {
    "ExecuteTime": {
     "end_time": "2025-04-24T11:42:44.269670Z",
     "start_time": "2025-04-24T11:42:44.260787Z"
    }
   },
   "cell_type": "code",
   "source": [
    "def load_timeframe(start_date, end_date):\n",
    "    try:\n",
    "        business_days = pd.date_range(start=start_date, end=end_date, freq='B')\n",
    "        timeframe = pd.DataFrame({'Date': business_days, 'Open': 0.0, 'Close': 0.0, 'Daily change [%]': 0.0,\n",
    "                                  'Total change [%]': 0.0})\n",
    "\n",
    "        return timeframe\n",
    "\n",
    "    except Exception as e:\n",
    "        print(f'Error in load_timeframe: {e}')"
   ],
   "id": "cb716d7471dfee9b",
   "outputs": [],
   "execution_count": 4
  },
  {
   "metadata": {
    "ExecuteTime": {
     "end_time": "2025-04-24T11:42:46.549962Z",
     "start_time": "2025-04-24T11:42:46.533034Z"
    }
   },
   "cell_type": "code",
   "source": [
    "def load_stock_timeframe(ticker, timeframe):\n",
    "    for index, row in timeframe.iterrows():\n",
    "        try:\n",
    "            date = row['Date']\n",
    "            data = yf.download(ticker, start=date.strftime('%Y-%m-%d'),\n",
    "                                   end=(date + timedelta(days=1)).strftime('%Y-%m-%d'), auto_adjust=False)\n",
    "            open_price = data['Open'].iloc[0] if isinstance(data['Open'].iloc[0], float) else data['Open'].iloc[\n",
    "                0].item()\n",
    "            close_price = data['Close'].iloc[0] if isinstance(data['Close'].iloc[0], float) else data['Close'].iloc[\n",
    "                0].item()\n",
    "\n",
    "            timeframe.loc[index, 'Open'] = open_price\n",
    "            timeframe.loc[index, 'Close'] = close_price\n",
    "\n",
    "        except Exception as e:\n",
    "            print(f\"Error in load_stock_timeframe while retrieving data for {ticker} on {row['Date']}: {e}\")\n",
    "            timeframe.drop(index, inplace=True)\n",
    "            continue\n",
    "\n",
    "    timeframe['Daily change [%]'] = (timeframe['Close'] / timeframe['Open'] - 1) * 100\n",
    "    timeframe['Total change [%]'] = (timeframe['Close'] / timeframe['Close'].iloc[0] - 1) * 100"
   ],
   "id": "647bfe2d24a61154",
   "outputs": [],
   "execution_count": 5
  },
  {
   "metadata": {
    "ExecuteTime": {
     "end_time": "2025-04-24T11:42:49.920983Z",
     "start_time": "2025-04-24T11:42:49.910607Z"
    }
   },
   "cell_type": "code",
   "source": [
    "def biggest_changes(timeframe, num_of_biggest_changes):\n",
    "    if num_of_biggest_changes <= len(timeframe):\n",
    "        timeframe_copy = timeframe.copy()\n",
    "        timeframe_sorted = timeframe_copy.reindex(\n",
    "            timeframe_copy['Daily change [%]'].abs().sort_values(ascending=False).index\n",
    "        )\n",
    "        return timeframe_sorted.head(num_of_biggest_changes).reset_index(drop=True)\n",
    "    else:\n",
    "        print('num_of_biggest_changes should not be bigger than number of rows in timeframe \\n'\n",
    "              'Change num_of_biggest_changes in controller.py')"
   ],
   "id": "67997e097eca4fd9",
   "outputs": [],
   "execution_count": 6
  },
  {
   "metadata": {
    "ExecuteTime": {
     "end_time": "2025-04-24T11:42:51.972112Z",
     "start_time": "2025-04-24T11:42:51.964108Z"
    }
   },
   "cell_type": "code",
   "source": [
    "def stock_plot(timeframe, column, ticker):\n",
    "    try:\n",
    "        plt.plot(timeframe['Date'], timeframe[f'{column}'], label=f'{column} of {ticker}', linewidth=3, linestyle='--',\n",
    "                 color='black')\n",
    "        plt.title('Portfolio total profit over time')\n",
    "        plt.xlabel('Date')\n",
    "        plt.ylabel('Total profit')\n",
    "        plt.legend()\n",
    "        plt.grid()\n",
    "        plt.show()\n",
    "\n",
    "    except Exception as e:\n",
    "        print(f\"Error in stock_plot: {e}\")"
   ],
   "id": "4b2f9946f9156b29",
   "outputs": [],
   "execution_count": 7
  },
  {
   "metadata": {
    "ExecuteTime": {
     "end_time": "2025-04-24T11:42:54.257618Z",
     "start_time": "2025-04-24T11:42:54.238693Z"
    }
   },
   "cell_type": "code",
   "source": [
    "def get_popular_tweets(target_date, keywords, max_tweets, top_n):\n",
    "    formatted_keywords = []\n",
    "    for kw in keywords:\n",
    "        kw = kw.strip()\n",
    "        if ' ' in kw and not (kw.startswith('\"') and kw.endswith('\"')):\n",
    "            formatted_keywords.append(f'\"{kw}\"')\n",
    "        else:\n",
    "            formatted_keywords.append(kw)\n",
    "\n",
    "    query_keywords = ' OR '.join(formatted_keywords)\n",
    "    query = f'({query_keywords}) since:{target_date} until:{target_date} lang:en -filter:retweets'\n",
    "\n",
    "    tweets = []\n",
    "\n",
    "    try:\n",
    "        session = requests.Session()\n",
    "        session.verify = False\n",
    "        for i, tweet in enumerate(sntwitter.TwitterSearchScraper(query).get_items()):\n",
    "            if i >= max_tweets:\n",
    "                break\n",
    "            tweets.append([\n",
    "                tweet.date,\n",
    "                tweet.content,\n",
    "                tweet.user.username,\n",
    "                tweet.likeCount,\n",
    "                tweet.retweetCount,\n",
    "                tweet.replyCount\n",
    "            ])\n",
    "\n",
    "    except Exception as e:\n",
    "        print(f'Error in tweets_loader: {e}')\n",
    "        return pd.DataFrame()\n",
    "\n",
    "    df = pd.DataFrame(tweets, columns=['Date', 'Tweet', 'User', 'Likes', 'Retweets', 'Answers'])\n",
    "\n",
    "    if not df.empty:\n",
    "        df['Sum of interaction'] = df[['Likes', 'Retweets', 'Answers']].sum(axis=1)\n",
    "        return df.sort_values('Sum of interaction', ascending=False).head(top_n)\n",
    "\n",
    "    return df"
   ],
   "id": "8924c1ee6017a035",
   "outputs": [],
   "execution_count": 8
  },
  {
   "metadata": {
    "ExecuteTime": {
     "end_time": "2025-04-24T11:43:08.536295Z",
     "start_time": "2025-04-24T11:42:56.699731Z"
    }
   },
   "cell_type": "code",
   "source": [
    "if __name__ == \"__main__\":\n",
    "    pd.set_option('display.max_columns', None)\n",
    "    pd.set_option('display.max_rows', None)\n",
    "\n",
    "    timeframe = load_timeframe(start_date, end_date)\n",
    "    load_stock_timeframe(ticker, timeframe)\n",
    "    # print(timeframe)\n",
    "\n",
    "    # stock_plot(timeframe, 'Daily change [%]', ticker)\n",
    "    # stock_plot(timeframe, 'Total change [%]', ticker)\n",
    "\n",
    "    biggest_changes = biggest_changes(timeframe, num_of_biggest_changes)\n",
    "    # print(biggest_changes)\n",
    "\n",
    "    date = '2025-04-04'\n",
    "    popular_tweets = get_popular_tweets(date, keywords, max_tweets, top_n)\n",
    "    print(popular_tweets)"
   ],
   "id": "ce74d6327b273458",
   "outputs": [
    {
     "name": "stderr",
     "output_type": "stream",
     "text": [
      "[*********************100%***********************]  1 of 1 completed\n",
      "[*********************100%***********************]  1 of 1 completed\n",
      "[*********************100%***********************]  1 of 1 completed\n",
      "[*********************100%***********************]  1 of 1 completed\n",
      "[*********************100%***********************]  1 of 1 completed\n",
      "[*********************100%***********************]  1 of 1 completed\n",
      "[*********************100%***********************]  1 of 1 completed\n",
      "[*********************100%***********************]  1 of 1 completed\n",
      "[*********************100%***********************]  1 of 1 completed\n",
      "[*********************100%***********************]  1 of 1 completed\n",
      "[*********************100%***********************]  1 of 1 completed\n",
      "[*********************100%***********************]  1 of 1 completed\n",
      "[*********************100%***********************]  1 of 1 completed\n",
      "[*********************100%***********************]  1 of 1 completed\n",
      "[*********************100%***********************]  1 of 1 completed\n",
      "[*********************100%***********************]  1 of 1 completed\n",
      "[*********************100%***********************]  1 of 1 completed\n",
      "[*********************100%***********************]  1 of 1 completed\n",
      "[*********************100%***********************]  1 of 1 completed\n",
      "[*********************100%***********************]  1 of 1 completed\n",
      "[*********************100%***********************]  1 of 1 completed\n",
      "[*********************100%***********************]  1 of 1 completed\n",
      "[*********************100%***********************]  1 of 1 completed\n",
      "[*********************100%***********************]  1 of 1 completed\n",
      "Error retrieving https://twitter.com/search?f=live&lang=en&q=%28stock+OR+%24SPX+OR+%24SP500+OR+SPX+OR+SP500+OR+%23SPX+OR+%23SP500+OR+S%26P%29+since%3A2025-04-04+until%3A2025-04-04+lang%3Aen+-filter%3Aretweets&src=spelling_expansion_revert_click: SSLError(MaxRetryError(\"HTTPSConnectionPool(host='twitter.com', port=443): Max retries exceeded with url: /search?f=live&lang=en&q=%28stock+OR+%24SPX+OR+%24SP500+OR+SPX+OR+SP500+OR+%23SPX+OR+%23SP500+OR+S%26P%29+since%3A2025-04-04+until%3A2025-04-04+lang%3Aen+-filter%3Aretweets&src=spelling_expansion_revert_click (Caused by SSLError(SSLCertVerificationError(1, '[SSL: CERTIFICATE_VERIFY_FAILED] certificate verify failed: unable to get local issuer certificate (_ssl.c:992)')))\"))\n",
      "4 requests to https://twitter.com/search?f=live&lang=en&q=%28stock+OR+%24SPX+OR+%24SP500+OR+SPX+OR+SP500+OR+%23SPX+OR+%23SP500+OR+S%26P%29+since%3A2025-04-04+until%3A2025-04-04+lang%3Aen+-filter%3Aretweets&src=spelling_expansion_revert_click failed, giving up.\n",
      "Errors: SSLError(MaxRetryError(\"HTTPSConnectionPool(host='twitter.com', port=443): Max retries exceeded with url: /search?f=live&lang=en&q=%28stock+OR+%24SPX+OR+%24SP500+OR+SPX+OR+SP500+OR+%23SPX+OR+%23SP500+OR+S%26P%29+since%3A2025-04-04+until%3A2025-04-04+lang%3Aen+-filter%3Aretweets&src=spelling_expansion_revert_click (Caused by SSLError(SSLCertVerificationError(1, '[SSL: CERTIFICATE_VERIFY_FAILED] certificate verify failed: unable to get local issuer certificate (_ssl.c:992)')))\")), SSLError(MaxRetryError(\"HTTPSConnectionPool(host='twitter.com', port=443): Max retries exceeded with url: /search?f=live&lang=en&q=%28stock+OR+%24SPX+OR+%24SP500+OR+SPX+OR+SP500+OR+%23SPX+OR+%23SP500+OR+S%26P%29+since%3A2025-04-04+until%3A2025-04-04+lang%3Aen+-filter%3Aretweets&src=spelling_expansion_revert_click (Caused by SSLError(SSLCertVerificationError(1, '[SSL: CERTIFICATE_VERIFY_FAILED] certificate verify failed: unable to get local issuer certificate (_ssl.c:992)')))\")), SSLError(MaxRetryError(\"HTTPSConnectionPool(host='twitter.com', port=443): Max retries exceeded with url: /search?f=live&lang=en&q=%28stock+OR+%24SPX+OR+%24SP500+OR+SPX+OR+SP500+OR+%23SPX+OR+%23SP500+OR+S%26P%29+since%3A2025-04-04+until%3A2025-04-04+lang%3Aen+-filter%3Aretweets&src=spelling_expansion_revert_click (Caused by SSLError(SSLCertVerificationError(1, '[SSL: CERTIFICATE_VERIFY_FAILED] certificate verify failed: unable to get local issuer certificate (_ssl.c:992)')))\")), SSLError(MaxRetryError(\"HTTPSConnectionPool(host='twitter.com', port=443): Max retries exceeded with url: /search?f=live&lang=en&q=%28stock+OR+%24SPX+OR+%24SP500+OR+SPX+OR+SP500+OR+%23SPX+OR+%23SP500+OR+S%26P%29+since%3A2025-04-04+until%3A2025-04-04+lang%3Aen+-filter%3Aretweets&src=spelling_expansion_revert_click (Caused by SSLError(SSLCertVerificationError(1, '[SSL: CERTIFICATE_VERIFY_FAILED] certificate verify failed: unable to get local issuer certificate (_ssl.c:992)')))\"))\n"
     ]
    },
    {
     "name": "stdout",
     "output_type": "stream",
     "text": [
      "Error in tweets_loader: 4 requests to https://twitter.com/search?f=live&lang=en&q=%28stock+OR+%24SPX+OR+%24SP500+OR+SPX+OR+SP500+OR+%23SPX+OR+%23SP500+OR+S%26P%29+since%3A2025-04-04+until%3A2025-04-04+lang%3Aen+-filter%3Aretweets&src=spelling_expansion_revert_click failed, giving up.\n",
      "Empty DataFrame\n",
      "Columns: []\n",
      "Index: []\n"
     ]
    }
   ],
   "execution_count": 9
  }
 ],
 "metadata": {
  "kernelspec": {
   "display_name": "Python 3 (ipykernel)",
   "language": "python",
   "name": "python3"
  },
  "language_info": {
   "codemirror_mode": {
    "name": "ipython",
    "version": 2
   },
   "file_extension": ".py",
   "mimetype": "text/x-python",
   "name": "python",
   "nbconvert_exporter": "python",
   "pygments_lexer": "ipython2",
   "version": "2.7.6"
  }
 },
 "nbformat": 4,
 "nbformat_minor": 5
}
